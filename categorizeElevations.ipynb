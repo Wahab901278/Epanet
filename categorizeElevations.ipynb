{
 "cells": [
  {
   "cell_type": "code",
   "execution_count": 2,
   "id": "40ca6522",
   "metadata": {},
   "outputs": [],
   "source": [
    "from epyt import epanet"
   ]
  },
  {
   "cell_type": "code",
   "execution_count": 1,
   "id": "f48b67c4",
   "metadata": {},
   "outputs": [],
   "source": [
    "def categorizeElevations(inp_file):\n",
    "    d=epanet(inp_file)\n",
    "    elevations=d.getNodeElevations()\n",
    "    high_threshold=50 # depends upon the system\n",
    "    medium_threshold=10 # depends upon the system\n",
    "    \n",
    "    high_elevations=[]\n",
    "    medium_elevations=[]\n",
    "    low_elevations=[]\n",
    "    \n",
    "    for index,elevation in enumerate(elevations):\n",
    "        if elevation>=high_threshold:\n",
    "            high_elevations.append((index+1,elevation))\n",
    "        elif elevation >=medium_threshold:\n",
    "            medium_elevations.append((index+1,elevation))\n",
    "        else:\n",
    "            low_elevations.append((index+1,elevation))\n",
    "    print(f\"High Elevations(>={high_threshold} meters):\")\n",
    "    for node,elev in high_elevations:\n",
    "        print(f\"Node {node}: {elev:.2f} meters\")\n",
    "    \n",
    "    print(f\"\\nMedium Elevations(>={medium_threshold} and <{high_threshold})\")\n",
    "    for node,elev in medium_elevations:\n",
    "        print(f\"Node {node}: {elev:.2f} meters\")\n",
    "          \n",
    "    print(f\"\\nLow Elevations(<{medium_threshold}meters):\")\n",
    "    for node,elev in low_elevations:\n",
    "        print(f\"Node {node}: {elev:.2f} meters\")\n",
    "    "
   ]
  },
  {
   "cell_type": "code",
   "execution_count": 3,
   "id": "d7c58390",
   "metadata": {},
   "outputs": [
    {
     "name": "stdout",
     "output_type": "stream",
     "text": [
      "EPANET version 20200 loaded (EPyT version 1.1.8).\n",
      "Input File Net2.inp loaded successfully.\n",
      "\n",
      "High Elevations(>=50 meters):\n",
      "Node 1: 50.00 meters\n",
      "Node 2: 100.00 meters\n",
      "Node 3: 60.00 meters\n",
      "Node 4: 60.00 meters\n",
      "Node 5: 100.00 meters\n",
      "Node 6: 125.00 meters\n",
      "Node 7: 160.00 meters\n",
      "Node 8: 110.00 meters\n",
      "Node 9: 180.00 meters\n",
      "Node 10: 130.00 meters\n",
      "Node 11: 185.00 meters\n",
      "Node 12: 210.00 meters\n",
      "Node 13: 210.00 meters\n",
      "Node 14: 200.00 meters\n",
      "Node 15: 190.00 meters\n",
      "Node 16: 150.00 meters\n",
      "Node 17: 180.00 meters\n",
      "Node 18: 100.00 meters\n",
      "Node 19: 150.00 meters\n",
      "Node 20: 170.00 meters\n",
      "Node 21: 150.00 meters\n",
      "Node 22: 200.00 meters\n",
      "Node 23: 230.00 meters\n",
      "Node 24: 190.00 meters\n",
      "Node 25: 230.00 meters\n",
      "Node 26: 130.00 meters\n",
      "Node 27: 110.00 meters\n",
      "Node 28: 110.00 meters\n",
      "Node 29: 130.00 meters\n",
      "Node 30: 190.00 meters\n",
      "Node 31: 110.00 meters\n",
      "Node 32: 180.00 meters\n",
      "Node 33: 190.00 meters\n",
      "Node 34: 110.00 meters\n",
      "Node 35: 110.00 meters\n",
      "Node 36: 235.00 meters\n",
      "\n",
      "Medium Elevations(>=10 and <50)\n",
      "\n",
      "Low Elevations(<10meters):\n"
     ]
    }
   ],
   "source": [
    "categorizeElevations('Net2.inp')"
   ]
  },
  {
   "cell_type": "code",
   "execution_count": null,
   "id": "83ee5fc5",
   "metadata": {},
   "outputs": [],
   "source": []
  }
 ],
 "metadata": {
  "kernelspec": {
   "display_name": "Python 3 (ipykernel)",
   "language": "python",
   "name": "python3"
  },
  "language_info": {
   "codemirror_mode": {
    "name": "ipython",
    "version": 3
   },
   "file_extension": ".py",
   "mimetype": "text/x-python",
   "name": "python",
   "nbconvert_exporter": "python",
   "pygments_lexer": "ipython3",
   "version": "3.11.5"
  }
 },
 "nbformat": 4,
 "nbformat_minor": 5
}
